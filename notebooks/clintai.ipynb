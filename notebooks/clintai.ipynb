{
 "cells": [
  {
   "cell_type": "code",
   "execution_count": 1,
   "id": "a20871d8-4994-487d-b18d-421819ba5afb",
   "metadata": {},
   "outputs": [
    {
     "name": "stdout",
     "output_type": "stream",
     "text": [
      "Help on method clintai in module birdy.client.base:\n",
      "\n",
      "clintai(dataset=None, data_type='tas') method of birdy.client.base.WPSClient instance\n",
      "    Fills the gaps in your uploaded dataset.\n",
      "    \n",
      "    Parameters\n",
      "    ----------\n",
      "    dataset : ComplexData:mimetype:`application/x-netcdf`\n",
      "        Enter a URL pointing to a NetCDF file.\n",
      "    data_type : {'tas'}string\n",
      "        Choose data type.\n",
      "    \n",
      "    Returns\n",
      "    -------\n",
      "    output : ComplexData:mimetype:`application/x-netcdf`\n",
      "        NetCDF Output produced by ClintAI.\n",
      "    mask : ComplexData:mimetype:`application/x-netcdf`\n",
      "        NetCDF Mask produced by ClintAI.\n",
      "\n"
     ]
    }
   ],
   "source": [
    "from birdy import WPSClient\n",
    "url = \"http://127.0.0.1:5000/wps?Service=WPS&Request=GetCapabilities&Version=1.0.0\"\n",
    "wps = WPSClient(url, verify=False)\n",
    "help(wps.clintai)"
   ]
  },
  {
   "cell_type": "code",
   "execution_count": 2,
   "id": "e9ef6df3-60f2-4b6b-b5cc-d968bab10682",
   "metadata": {},
   "outputs": [
    {
     "name": "stdout",
     "output_type": "stream",
     "text": [
      "<birdy.client.utils.WPSExecution object at 0x111dc9d90>\n"
     ]
    },
    {
     "data": {
      "text/plain": [
       "clintaiResponse(\n",
       "    output='http://localhost:5000/outputs/64f1732e-93e0-11ec-be74-acde48001122/demo_output.nc',\n",
       "    mask='http://localhost:5000/outputs/64f1732e-93e0-11ec-be74-acde48001122/demo_mask.nc'\n",
       ")"
      ]
     },
     "execution_count": 2,
     "metadata": {},
     "output_type": "execute_result"
    }
   ],
   "source": [
    "resp = wps.clintai(\n",
    "    dataset=\"https://github.com/FREVA-CLINT/climatereconstructionAI/raw/clint/demo/inputs/test_large/tas_hadcrut_187709_189308.nc\", \n",
    "    data_type='tas')\n",
    "print(resp)\n",
    "resp.get()"
   ]
  }
 ],
 "metadata": {
  "kernelspec": {
   "display_name": "Python 3 (ipykernel)",
   "language": "python",
   "name": "python3"
  },
  "language_info": {
   "codemirror_mode": {
    "name": "ipython",
    "version": 3
   },
   "file_extension": ".py",
   "mimetype": "text/x-python",
   "name": "python",
   "nbconvert_exporter": "python",
   "pygments_lexer": "ipython3",
   "version": "3.9.10"
  }
 },
 "nbformat": 4,
 "nbformat_minor": 5
}
